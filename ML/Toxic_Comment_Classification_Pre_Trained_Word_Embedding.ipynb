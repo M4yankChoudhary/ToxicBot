{
  "nbformat": 4,
  "nbformat_minor": 0,
  "metadata": {
    "colab": {
      "name": "Toxic Comment Classification Pre-Trained Word Embedding.ipynb",
      "provenance": [],
      "collapsed_sections": [
        "oOQZTTbQjuTH",
        "Zl1KYLr2jyeP",
        "4GTD-7BxmU3I"
      ]
    },
    "kernelspec": {
      "name": "python3",
      "display_name": "Python 3"
    }
  },
  "cells": [
    {
      "cell_type": "markdown",
      "metadata": {
        "id": "oOQZTTbQjuTH"
      },
      "source": [
        "# Import the dataset"
      ]
    },
    {
      "cell_type": "code",
      "metadata": {
        "id": "2KyVhyjUdr14"
      },
      "source": [
        "import pandas as pd\n",
        "import numpy as np\n",
        "import spacy\n",
        "from tqdm import tqdm\n",
        "from sklearn.tree import DecisionTreeClassifier\n",
        "from sklearn.model_selection import GridSearchCV, cross_val_score\n",
        "\n",
        "import re\n",
        "import gc"
      ],
      "execution_count": 95,
      "outputs": []
    },
    {
      "cell_type": "code",
      "metadata": {
        "id": "ndGkLSnZtxey"
      },
      "source": [
        "tqdm.pandas()"
      ],
      "execution_count": 72,
      "outputs": []
    },
    {
      "cell_type": "code",
      "metadata": {
        "id": "LH3UNxixhD6_",
        "outputId": "aeaf6222-2550-49f6-b768-117588a8fcdb",
        "colab": {
          "base_uri": "https://localhost:8080/",
          "height": 428
        }
      },
      "source": [
        "! python -m spacy download en_core_web_lg"
      ],
      "execution_count": 34,
      "outputs": [
        {
          "output_type": "stream",
          "text": [
            "Requirement already satisfied: en_core_web_lg==2.2.5 from https://github.com/explosion/spacy-models/releases/download/en_core_web_lg-2.2.5/en_core_web_lg-2.2.5.tar.gz#egg=en_core_web_lg==2.2.5 in /usr/local/lib/python3.6/dist-packages (2.2.5)\n",
            "Requirement already satisfied: spacy>=2.2.2 in /usr/local/lib/python3.6/dist-packages (from en_core_web_lg==2.2.5) (2.2.4)\n",
            "Requirement already satisfied: catalogue<1.1.0,>=0.0.7 in /usr/local/lib/python3.6/dist-packages (from spacy>=2.2.2->en_core_web_lg==2.2.5) (1.0.0)\n",
            "Requirement already satisfied: requests<3.0.0,>=2.13.0 in /usr/local/lib/python3.6/dist-packages (from spacy>=2.2.2->en_core_web_lg==2.2.5) (2.23.0)\n",
            "Requirement already satisfied: srsly<1.1.0,>=1.0.2 in /usr/local/lib/python3.6/dist-packages (from spacy>=2.2.2->en_core_web_lg==2.2.5) (1.0.2)\n",
            "Requirement already satisfied: tqdm<5.0.0,>=4.38.0 in /usr/local/lib/python3.6/dist-packages (from spacy>=2.2.2->en_core_web_lg==2.2.5) (4.41.1)\n",
            "Requirement already satisfied: setuptools in /usr/local/lib/python3.6/dist-packages (from spacy>=2.2.2->en_core_web_lg==2.2.5) (50.3.0)\n",
            "Requirement already satisfied: numpy>=1.15.0 in /usr/local/lib/python3.6/dist-packages (from spacy>=2.2.2->en_core_web_lg==2.2.5) (1.18.5)\n",
            "Requirement already satisfied: blis<0.5.0,>=0.4.0 in /usr/local/lib/python3.6/dist-packages (from spacy>=2.2.2->en_core_web_lg==2.2.5) (0.4.1)\n",
            "Requirement already satisfied: plac<1.2.0,>=0.9.6 in /usr/local/lib/python3.6/dist-packages (from spacy>=2.2.2->en_core_web_lg==2.2.5) (1.1.3)\n",
            "Requirement already satisfied: cymem<2.1.0,>=2.0.2 in /usr/local/lib/python3.6/dist-packages (from spacy>=2.2.2->en_core_web_lg==2.2.5) (2.0.3)\n",
            "Requirement already satisfied: thinc==7.4.0 in /usr/local/lib/python3.6/dist-packages (from spacy>=2.2.2->en_core_web_lg==2.2.5) (7.4.0)\n",
            "Requirement already satisfied: preshed<3.1.0,>=3.0.2 in /usr/local/lib/python3.6/dist-packages (from spacy>=2.2.2->en_core_web_lg==2.2.5) (3.0.2)\n",
            "Requirement already satisfied: wasabi<1.1.0,>=0.4.0 in /usr/local/lib/python3.6/dist-packages (from spacy>=2.2.2->en_core_web_lg==2.2.5) (0.8.0)\n",
            "Requirement already satisfied: murmurhash<1.1.0,>=0.28.0 in /usr/local/lib/python3.6/dist-packages (from spacy>=2.2.2->en_core_web_lg==2.2.5) (1.0.2)\n",
            "Requirement already satisfied: importlib-metadata>=0.20; python_version < \"3.8\" in /usr/local/lib/python3.6/dist-packages (from catalogue<1.1.0,>=0.0.7->spacy>=2.2.2->en_core_web_lg==2.2.5) (2.0.0)\n",
            "Requirement already satisfied: chardet<4,>=3.0.2 in /usr/local/lib/python3.6/dist-packages (from requests<3.0.0,>=2.13.0->spacy>=2.2.2->en_core_web_lg==2.2.5) (3.0.4)\n",
            "Requirement already satisfied: idna<3,>=2.5 in /usr/local/lib/python3.6/dist-packages (from requests<3.0.0,>=2.13.0->spacy>=2.2.2->en_core_web_lg==2.2.5) (2.10)\n",
            "Requirement already satisfied: certifi>=2017.4.17 in /usr/local/lib/python3.6/dist-packages (from requests<3.0.0,>=2.13.0->spacy>=2.2.2->en_core_web_lg==2.2.5) (2020.6.20)\n",
            "Requirement already satisfied: urllib3!=1.25.0,!=1.25.1,<1.26,>=1.21.1 in /usr/local/lib/python3.6/dist-packages (from requests<3.0.0,>=2.13.0->spacy>=2.2.2->en_core_web_lg==2.2.5) (1.24.3)\n",
            "Requirement already satisfied: zipp>=0.5 in /usr/local/lib/python3.6/dist-packages (from importlib-metadata>=0.20; python_version < \"3.8\"->catalogue<1.1.0,>=0.0.7->spacy>=2.2.2->en_core_web_lg==2.2.5) (3.2.0)\n",
            "\u001b[38;5;2m✔ Download and installation successful\u001b[0m\n",
            "You can now load the model via spacy.load('en_core_web_lg')\n"
          ],
          "name": "stdout"
        }
      ]
    },
    {
      "cell_type": "code",
      "metadata": {
        "id": "3e0LrjAXmiVs",
        "outputId": "f2a6aa14-3e9e-405b-cfd4-7ce9d0a8f3bc",
        "colab": {
          "base_uri": "https://localhost:8080/",
          "height": 85
        }
      },
      "source": [
        "! python -m spacy link en_core_web_lg en --force"
      ],
      "execution_count": 35,
      "outputs": [
        {
          "output_type": "stream",
          "text": [
            "\u001b[38;5;2m✔ Linking successful\u001b[0m\n",
            "/usr/local/lib/python3.6/dist-packages/en_core_web_lg -->\n",
            "/usr/local/lib/python3.6/dist-packages/spacy/data/en\n",
            "You can now load the model via spacy.load('en')\n"
          ],
          "name": "stdout"
        }
      ]
    },
    {
      "cell_type": "code",
      "metadata": {
        "id": "rMeu_A1PiFDL",
        "outputId": "d1e250af-d5a5-4c2d-8bf3-7f15f4e30e0a",
        "colab": {
          "base_uri": "https://localhost:8080/",
          "height": 221
        }
      },
      "source": [
        "! pip install kaggle"
      ],
      "execution_count": 36,
      "outputs": [
        {
          "output_type": "stream",
          "text": [
            "Requirement already satisfied: kaggle in /usr/local/lib/python3.6/dist-packages (1.5.8)\n",
            "Requirement already satisfied: six>=1.10 in /usr/local/lib/python3.6/dist-packages (from kaggle) (1.15.0)\n",
            "Requirement already satisfied: tqdm in /usr/local/lib/python3.6/dist-packages (from kaggle) (4.41.1)\n",
            "Requirement already satisfied: python-dateutil in /usr/local/lib/python3.6/dist-packages (from kaggle) (2.8.1)\n",
            "Requirement already satisfied: certifi in /usr/local/lib/python3.6/dist-packages (from kaggle) (2020.6.20)\n",
            "Requirement already satisfied: slugify in /usr/local/lib/python3.6/dist-packages (from kaggle) (0.0.1)\n",
            "Requirement already satisfied: urllib3<1.25,>=1.21.1 in /usr/local/lib/python3.6/dist-packages (from kaggle) (1.24.3)\n",
            "Requirement already satisfied: requests in /usr/local/lib/python3.6/dist-packages (from kaggle) (2.23.0)\n",
            "Requirement already satisfied: python-slugify in /usr/local/lib/python3.6/dist-packages (from kaggle) (4.0.1)\n",
            "Requirement already satisfied: chardet<4,>=3.0.2 in /usr/local/lib/python3.6/dist-packages (from requests->kaggle) (3.0.4)\n",
            "Requirement already satisfied: idna<3,>=2.5 in /usr/local/lib/python3.6/dist-packages (from requests->kaggle) (2.10)\n",
            "Requirement already satisfied: text-unidecode>=1.3 in /usr/local/lib/python3.6/dist-packages (from python-slugify->kaggle) (1.3)\n"
          ],
          "name": "stdout"
        }
      ]
    },
    {
      "cell_type": "code",
      "metadata": {
        "id": "aJRjVA8Riz2l",
        "outputId": "c3c54f17-3f3e-4f32-f3ec-067d60e1db9a",
        "colab": {
          "resources": {
            "http://localhost:8080/nbextensions/google.colab/files.js": {
              "data": "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",
              "ok": true,
              "headers": [
                [
                  "content-type",
                  "application/javascript"
                ]
              ],
              "status": 200,
              "status_text": ""
            }
          },
          "base_uri": "https://localhost:8080/",
          "height": 55
        }
      },
      "source": [
        "from google.colab import files\n",
        "files.upload()"
      ],
      "execution_count": 37,
      "outputs": [
        {
          "output_type": "display_data",
          "data": {
            "text/html": [
              "\n",
              "     <input type=\"file\" id=\"files-ce113c42-f51d-426d-8a33-90b056035c84\" name=\"files[]\" multiple disabled\n",
              "        style=\"border:none\" />\n",
              "     <output id=\"result-ce113c42-f51d-426d-8a33-90b056035c84\">\n",
              "      Upload widget is only available when the cell has been executed in the\n",
              "      current browser session. Please rerun this cell to enable.\n",
              "      </output>\n",
              "      <script src=\"/nbextensions/google.colab/files.js\"></script> "
            ],
            "text/plain": [
              "<IPython.core.display.HTML object>"
            ]
          },
          "metadata": {
            "tags": []
          }
        },
        {
          "output_type": "execute_result",
          "data": {
            "text/plain": [
              "{}"
            ]
          },
          "metadata": {
            "tags": []
          },
          "execution_count": 37
        }
      ]
    },
    {
      "cell_type": "code",
      "metadata": {
        "id": "VsWP6Uomi0s4",
        "outputId": "a781207a-603c-403b-dec7-436cfb67ddde",
        "colab": {
          "base_uri": "https://localhost:8080/",
          "height": 34
        }
      },
      "source": [
        "! mkdir ~/.kaggle\n",
        "! cp kaggle.json ~/.kaggle/"
      ],
      "execution_count": 38,
      "outputs": [
        {
          "output_type": "stream",
          "text": [
            "mkdir: cannot create directory ‘/root/.kaggle’: File exists\n"
          ],
          "name": "stdout"
        }
      ]
    },
    {
      "cell_type": "code",
      "metadata": {
        "id": "USW9_1Tfi2Ci"
      },
      "source": [
        "! chmod 600 ~/.kaggle/kaggle.json"
      ],
      "execution_count": 39,
      "outputs": []
    },
    {
      "cell_type": "code",
      "metadata": {
        "id": "34OSIMPXi-NG",
        "outputId": "fd0591ed-3e2d-4aaf-ead1-337c5d13f3c6",
        "colab": {
          "base_uri": "https://localhost:8080/",
          "height": 238
        }
      },
      "source": [
        "! kaggle competitions download -c jigsaw-toxic-comment-classification-challenge"
      ],
      "execution_count": 40,
      "outputs": [
        {
          "output_type": "stream",
          "text": [
            "Warning: Looks like you're using an outdated API Version, please consider updating (server 1.5.6 / client 1.5.4)\n",
            "Downloading sample_submission.csv.zip to /content\n",
            "  0% 0.00/1.39M [00:00<?, ?B/s]\n",
            "100% 1.39M/1.39M [00:00<00:00, 46.7MB/s]\n",
            "Downloading train.csv.zip to /content\n",
            " 84% 22.0M/26.3M [00:00<00:00, 65.9MB/s]\n",
            "100% 26.3M/26.3M [00:00<00:00, 104MB/s] \n",
            "Downloading test_labels.csv.zip to /content\n",
            "  0% 0.00/1.46M [00:00<?, ?B/s]\n",
            "100% 1.46M/1.46M [00:00<00:00, 144MB/s]\n",
            "Downloading test.csv.zip to /content\n",
            " 64% 15.0M/23.4M [00:00<00:00, 48.2MB/s]\n",
            "100% 23.4M/23.4M [00:00<00:00, 77.8MB/s]\n"
          ],
          "name": "stdout"
        }
      ]
    },
    {
      "cell_type": "code",
      "metadata": {
        "id": "irVHcd32jFKU",
        "outputId": "14613e0a-b9c8-459e-a778-4b4e38d32067",
        "colab": {
          "base_uri": "https://localhost:8080/",
          "height": 34
        }
      },
      "source": [
        "! mkdir dataset"
      ],
      "execution_count": 41,
      "outputs": [
        {
          "output_type": "stream",
          "text": [
            "mkdir: cannot create directory ‘dataset’: File exists\n"
          ],
          "name": "stdout"
        }
      ]
    },
    {
      "cell_type": "code",
      "metadata": {
        "id": "c_GecieqjGYs",
        "outputId": "2a1df774-9ddd-45d4-d26a-0a1e20224934",
        "colab": {
          "base_uri": "https://localhost:8080/",
          "height": 68
        }
      },
      "source": [
        "! unzip test.csv.zip -d dataset"
      ],
      "execution_count": 42,
      "outputs": [
        {
          "output_type": "stream",
          "text": [
            "Archive:  test.csv.zip\n",
            "replace dataset/test.csv? [y]es, [n]o, [A]ll, [N]one, [r]ename: y\n",
            "  inflating: dataset/test.csv        \n"
          ],
          "name": "stdout"
        }
      ]
    },
    {
      "cell_type": "code",
      "metadata": {
        "id": "Exdno9jujIJR",
        "outputId": "1f23aa19-4a2b-41fc-ad96-0c0cd5e1667a",
        "colab": {
          "base_uri": "https://localhost:8080/",
          "height": 68
        }
      },
      "source": [
        "! unzip train.csv.zip -d dataset"
      ],
      "execution_count": 43,
      "outputs": [
        {
          "output_type": "stream",
          "text": [
            "Archive:  train.csv.zip\n",
            "replace dataset/train.csv? [y]es, [n]o, [A]ll, [N]one, [r]ename: y\n",
            "  inflating: dataset/train.csv       \n"
          ],
          "name": "stdout"
        }
      ]
    },
    {
      "cell_type": "markdown",
      "metadata": {
        "id": "Zl1KYLr2jyeP"
      },
      "source": [
        "# Preprocessing"
      ]
    },
    {
      "cell_type": "code",
      "metadata": {
        "id": "tXbSCrK6j1NX",
        "outputId": "3886d2f3-537d-4035-9cfb-662e431a4721",
        "colab": {
          "base_uri": "https://localhost:8080/",
          "height": 204
        }
      },
      "source": [
        "data = pd.read_csv('dataset/train.csv', dtype={'comment_text':'string'})\n",
        "data.head()"
      ],
      "execution_count": 44,
      "outputs": [
        {
          "output_type": "execute_result",
          "data": {
            "text/html": [
              "<div>\n",
              "<style scoped>\n",
              "    .dataframe tbody tr th:only-of-type {\n",
              "        vertical-align: middle;\n",
              "    }\n",
              "\n",
              "    .dataframe tbody tr th {\n",
              "        vertical-align: top;\n",
              "    }\n",
              "\n",
              "    .dataframe thead th {\n",
              "        text-align: right;\n",
              "    }\n",
              "</style>\n",
              "<table border=\"1\" class=\"dataframe\">\n",
              "  <thead>\n",
              "    <tr style=\"text-align: right;\">\n",
              "      <th></th>\n",
              "      <th>id</th>\n",
              "      <th>comment_text</th>\n",
              "      <th>toxic</th>\n",
              "      <th>severe_toxic</th>\n",
              "      <th>obscene</th>\n",
              "      <th>threat</th>\n",
              "      <th>insult</th>\n",
              "      <th>identity_hate</th>\n",
              "    </tr>\n",
              "  </thead>\n",
              "  <tbody>\n",
              "    <tr>\n",
              "      <th>0</th>\n",
              "      <td>0000997932d777bf</td>\n",
              "      <td>Explanation\n",
              "Why the edits made under my userna...</td>\n",
              "      <td>0</td>\n",
              "      <td>0</td>\n",
              "      <td>0</td>\n",
              "      <td>0</td>\n",
              "      <td>0</td>\n",
              "      <td>0</td>\n",
              "    </tr>\n",
              "    <tr>\n",
              "      <th>1</th>\n",
              "      <td>000103f0d9cfb60f</td>\n",
              "      <td>D'aww! He matches this background colour I'm s...</td>\n",
              "      <td>0</td>\n",
              "      <td>0</td>\n",
              "      <td>0</td>\n",
              "      <td>0</td>\n",
              "      <td>0</td>\n",
              "      <td>0</td>\n",
              "    </tr>\n",
              "    <tr>\n",
              "      <th>2</th>\n",
              "      <td>000113f07ec002fd</td>\n",
              "      <td>Hey man, I'm really not trying to edit war. It...</td>\n",
              "      <td>0</td>\n",
              "      <td>0</td>\n",
              "      <td>0</td>\n",
              "      <td>0</td>\n",
              "      <td>0</td>\n",
              "      <td>0</td>\n",
              "    </tr>\n",
              "    <tr>\n",
              "      <th>3</th>\n",
              "      <td>0001b41b1c6bb37e</td>\n",
              "      <td>\"\n",
              "More\n",
              "I can't make any real suggestions on im...</td>\n",
              "      <td>0</td>\n",
              "      <td>0</td>\n",
              "      <td>0</td>\n",
              "      <td>0</td>\n",
              "      <td>0</td>\n",
              "      <td>0</td>\n",
              "    </tr>\n",
              "    <tr>\n",
              "      <th>4</th>\n",
              "      <td>0001d958c54c6e35</td>\n",
              "      <td>You, sir, are my hero. Any chance you remember...</td>\n",
              "      <td>0</td>\n",
              "      <td>0</td>\n",
              "      <td>0</td>\n",
              "      <td>0</td>\n",
              "      <td>0</td>\n",
              "      <td>0</td>\n",
              "    </tr>\n",
              "  </tbody>\n",
              "</table>\n",
              "</div>"
            ],
            "text/plain": [
              "                 id  ... identity_hate\n",
              "0  0000997932d777bf  ...             0\n",
              "1  000103f0d9cfb60f  ...             0\n",
              "2  000113f07ec002fd  ...             0\n",
              "3  0001b41b1c6bb37e  ...             0\n",
              "4  0001d958c54c6e35  ...             0\n",
              "\n",
              "[5 rows x 8 columns]"
            ]
          },
          "metadata": {
            "tags": []
          },
          "execution_count": 44
        }
      ]
    },
    {
      "cell_type": "code",
      "metadata": {
        "id": "yWdVq0owkfG9",
        "outputId": "699da223-24fe-4b21-a88e-db5627511059",
        "colab": {
          "base_uri": "https://localhost:8080/",
          "height": 204
        }
      },
      "source": [
        "test_data = pd.read_csv('dataset/test.csv', dtype={'comment_text':'string'})\n",
        "test_data.head()"
      ],
      "execution_count": 45,
      "outputs": [
        {
          "output_type": "execute_result",
          "data": {
            "text/html": [
              "<div>\n",
              "<style scoped>\n",
              "    .dataframe tbody tr th:only-of-type {\n",
              "        vertical-align: middle;\n",
              "    }\n",
              "\n",
              "    .dataframe tbody tr th {\n",
              "        vertical-align: top;\n",
              "    }\n",
              "\n",
              "    .dataframe thead th {\n",
              "        text-align: right;\n",
              "    }\n",
              "</style>\n",
              "<table border=\"1\" class=\"dataframe\">\n",
              "  <thead>\n",
              "    <tr style=\"text-align: right;\">\n",
              "      <th></th>\n",
              "      <th>id</th>\n",
              "      <th>comment_text</th>\n",
              "    </tr>\n",
              "  </thead>\n",
              "  <tbody>\n",
              "    <tr>\n",
              "      <th>0</th>\n",
              "      <td>00001cee341fdb12</td>\n",
              "      <td>Yo bitch Ja Rule is more succesful then you'll...</td>\n",
              "    </tr>\n",
              "    <tr>\n",
              "      <th>1</th>\n",
              "      <td>0000247867823ef7</td>\n",
              "      <td>== From RfC == \n",
              "\n",
              " The title is fine as it is, ...</td>\n",
              "    </tr>\n",
              "    <tr>\n",
              "      <th>2</th>\n",
              "      <td>00013b17ad220c46</td>\n",
              "      <td>\" \n",
              "\n",
              " == Sources == \n",
              "\n",
              " * Zawe Ashton on Lapland...</td>\n",
              "    </tr>\n",
              "    <tr>\n",
              "      <th>3</th>\n",
              "      <td>00017563c3f7919a</td>\n",
              "      <td>:If you have a look back at the source, the in...</td>\n",
              "    </tr>\n",
              "    <tr>\n",
              "      <th>4</th>\n",
              "      <td>00017695ad8997eb</td>\n",
              "      <td>I don't anonymously edit articles at all.</td>\n",
              "    </tr>\n",
              "  </tbody>\n",
              "</table>\n",
              "</div>"
            ],
            "text/plain": [
              "                 id                                       comment_text\n",
              "0  00001cee341fdb12  Yo bitch Ja Rule is more succesful then you'll...\n",
              "1  0000247867823ef7  == From RfC == \n",
              "\n",
              " The title is fine as it is, ...\n",
              "2  00013b17ad220c46  \" \n",
              "\n",
              " == Sources == \n",
              "\n",
              " * Zawe Ashton on Lapland...\n",
              "3  00017563c3f7919a  :If you have a look back at the source, the in...\n",
              "4  00017695ad8997eb          I don't anonymously edit articles at all."
            ]
          },
          "metadata": {
            "tags": []
          },
          "execution_count": 45
        }
      ]
    },
    {
      "cell_type": "code",
      "metadata": {
        "id": "QvAXzhiXlr_q",
        "outputId": "c6d1538c-8222-45b6-848d-9df3646df91a",
        "colab": {
          "base_uri": "https://localhost:8080/",
          "height": 204
        }
      },
      "source": [
        "data = data.drop(columns='id')\n",
        "data.head()"
      ],
      "execution_count": 46,
      "outputs": [
        {
          "output_type": "execute_result",
          "data": {
            "text/html": [
              "<div>\n",
              "<style scoped>\n",
              "    .dataframe tbody tr th:only-of-type {\n",
              "        vertical-align: middle;\n",
              "    }\n",
              "\n",
              "    .dataframe tbody tr th {\n",
              "        vertical-align: top;\n",
              "    }\n",
              "\n",
              "    .dataframe thead th {\n",
              "        text-align: right;\n",
              "    }\n",
              "</style>\n",
              "<table border=\"1\" class=\"dataframe\">\n",
              "  <thead>\n",
              "    <tr style=\"text-align: right;\">\n",
              "      <th></th>\n",
              "      <th>comment_text</th>\n",
              "      <th>toxic</th>\n",
              "      <th>severe_toxic</th>\n",
              "      <th>obscene</th>\n",
              "      <th>threat</th>\n",
              "      <th>insult</th>\n",
              "      <th>identity_hate</th>\n",
              "    </tr>\n",
              "  </thead>\n",
              "  <tbody>\n",
              "    <tr>\n",
              "      <th>0</th>\n",
              "      <td>Explanation\n",
              "Why the edits made under my userna...</td>\n",
              "      <td>0</td>\n",
              "      <td>0</td>\n",
              "      <td>0</td>\n",
              "      <td>0</td>\n",
              "      <td>0</td>\n",
              "      <td>0</td>\n",
              "    </tr>\n",
              "    <tr>\n",
              "      <th>1</th>\n",
              "      <td>D'aww! He matches this background colour I'm s...</td>\n",
              "      <td>0</td>\n",
              "      <td>0</td>\n",
              "      <td>0</td>\n",
              "      <td>0</td>\n",
              "      <td>0</td>\n",
              "      <td>0</td>\n",
              "    </tr>\n",
              "    <tr>\n",
              "      <th>2</th>\n",
              "      <td>Hey man, I'm really not trying to edit war. It...</td>\n",
              "      <td>0</td>\n",
              "      <td>0</td>\n",
              "      <td>0</td>\n",
              "      <td>0</td>\n",
              "      <td>0</td>\n",
              "      <td>0</td>\n",
              "    </tr>\n",
              "    <tr>\n",
              "      <th>3</th>\n",
              "      <td>\"\n",
              "More\n",
              "I can't make any real suggestions on im...</td>\n",
              "      <td>0</td>\n",
              "      <td>0</td>\n",
              "      <td>0</td>\n",
              "      <td>0</td>\n",
              "      <td>0</td>\n",
              "      <td>0</td>\n",
              "    </tr>\n",
              "    <tr>\n",
              "      <th>4</th>\n",
              "      <td>You, sir, are my hero. Any chance you remember...</td>\n",
              "      <td>0</td>\n",
              "      <td>0</td>\n",
              "      <td>0</td>\n",
              "      <td>0</td>\n",
              "      <td>0</td>\n",
              "      <td>0</td>\n",
              "    </tr>\n",
              "  </tbody>\n",
              "</table>\n",
              "</div>"
            ],
            "text/plain": [
              "                                        comment_text  ...  identity_hate\n",
              "0  Explanation\n",
              "Why the edits made under my userna...  ...              0\n",
              "1  D'aww! He matches this background colour I'm s...  ...              0\n",
              "2  Hey man, I'm really not trying to edit war. It...  ...              0\n",
              "3  \"\n",
              "More\n",
              "I can't make any real suggestions on im...  ...              0\n",
              "4  You, sir, are my hero. Any chance you remember...  ...              0\n",
              "\n",
              "[5 rows x 7 columns]"
            ]
          },
          "metadata": {
            "tags": []
          },
          "execution_count": 46
        }
      ]
    },
    {
      "cell_type": "code",
      "metadata": {
        "id": "Wm1JgiHMlzpD",
        "outputId": "33e69ea8-453f-4cc6-eaf3-1bb7409dea22",
        "colab": {
          "base_uri": "https://localhost:8080/",
          "height": 221
        }
      },
      "source": [
        "ids = test_data.iloc[:,0]\n",
        "ids"
      ],
      "execution_count": 47,
      "outputs": [
        {
          "output_type": "execute_result",
          "data": {
            "text/plain": [
              "0         00001cee341fdb12\n",
              "1         0000247867823ef7\n",
              "2         00013b17ad220c46\n",
              "3         00017563c3f7919a\n",
              "4         00017695ad8997eb\n",
              "                ...       \n",
              "153159    fffcd0960ee309b5\n",
              "153160    fffd7a9a6eb32c16\n",
              "153161    fffda9e8d6fafa9e\n",
              "153162    fffe8f1340a79fc2\n",
              "153163    ffffce3fb183ee80\n",
              "Name: id, Length: 153164, dtype: object"
            ]
          },
          "metadata": {
            "tags": []
          },
          "execution_count": 47
        }
      ]
    },
    {
      "cell_type": "code",
      "metadata": {
        "id": "Dm58VUvIl5hp",
        "outputId": "0ebaa919-4962-4ace-e7d0-f26d53ae181c",
        "colab": {
          "base_uri": "https://localhost:8080/",
          "height": 204
        }
      },
      "source": [
        "test_data = test_data.drop(columns='id')\n",
        "test_data.head()"
      ],
      "execution_count": 48,
      "outputs": [
        {
          "output_type": "execute_result",
          "data": {
            "text/html": [
              "<div>\n",
              "<style scoped>\n",
              "    .dataframe tbody tr th:only-of-type {\n",
              "        vertical-align: middle;\n",
              "    }\n",
              "\n",
              "    .dataframe tbody tr th {\n",
              "        vertical-align: top;\n",
              "    }\n",
              "\n",
              "    .dataframe thead th {\n",
              "        text-align: right;\n",
              "    }\n",
              "</style>\n",
              "<table border=\"1\" class=\"dataframe\">\n",
              "  <thead>\n",
              "    <tr style=\"text-align: right;\">\n",
              "      <th></th>\n",
              "      <th>comment_text</th>\n",
              "    </tr>\n",
              "  </thead>\n",
              "  <tbody>\n",
              "    <tr>\n",
              "      <th>0</th>\n",
              "      <td>Yo bitch Ja Rule is more succesful then you'll...</td>\n",
              "    </tr>\n",
              "    <tr>\n",
              "      <th>1</th>\n",
              "      <td>== From RfC == \n",
              "\n",
              " The title is fine as it is, ...</td>\n",
              "    </tr>\n",
              "    <tr>\n",
              "      <th>2</th>\n",
              "      <td>\" \n",
              "\n",
              " == Sources == \n",
              "\n",
              " * Zawe Ashton on Lapland...</td>\n",
              "    </tr>\n",
              "    <tr>\n",
              "      <th>3</th>\n",
              "      <td>:If you have a look back at the source, the in...</td>\n",
              "    </tr>\n",
              "    <tr>\n",
              "      <th>4</th>\n",
              "      <td>I don't anonymously edit articles at all.</td>\n",
              "    </tr>\n",
              "  </tbody>\n",
              "</table>\n",
              "</div>"
            ],
            "text/plain": [
              "                                        comment_text\n",
              "0  Yo bitch Ja Rule is more succesful then you'll...\n",
              "1  == From RfC == \n",
              "\n",
              " The title is fine as it is, ...\n",
              "2  \" \n",
              "\n",
              " == Sources == \n",
              "\n",
              " * Zawe Ashton on Lapland...\n",
              "3  :If you have a look back at the source, the in...\n",
              "4          I don't anonymously edit articles at all."
            ]
          },
          "metadata": {
            "tags": []
          },
          "execution_count": 48
        }
      ]
    },
    {
      "cell_type": "code",
      "metadata": {
        "id": "mKzK7fvjlDjr"
      },
      "source": [
        "def to_lower(text):\n",
        "  return text.lower()"
      ],
      "execution_count": 49,
      "outputs": []
    },
    {
      "cell_type": "code",
      "metadata": {
        "id": "CKll14hplFGx"
      },
      "source": [
        "def remove_abbreviation(text):\n",
        "    text = re.sub(\"^ *\",\"\", text)\n",
        "    text = re.sub(\"\\n\",\" \",text)\n",
        "    text = re.sub(' {2,}', ' ', text)\n",
        "    text = re.sub(\"\\[.*\\]\",\" \",text)\n",
        "    text = re.sub(\"\\d{1,3}\\.\\d{1,3}\\.\\d{1,3}\\.\\d{1,3}\",\" \",text)\n",
        "    text = re.sub(r\"\\?\",\" \",text)\n",
        "    text = re.sub(\"don'?t\",\"do not\",text)\n",
        "    text = re.sub(\"doesn'?t\", \"does not\",text)\n",
        "    text = re.sub(\"didn'?t\", \"did not\",text)\n",
        "    text = re.sub(\"hasn'?t\", \"has not\",text)\n",
        "    text = re.sub(\"haven'?t\", \"have not\",text)\n",
        "    text = re.sub(\"hadn'?t\", \"had not\",text)\n",
        "    text = re.sub(\"won'?t\", \"will not\",text)\n",
        "    text = re.sub(\"wouldn'?t\", \"would not\",text)\n",
        "    text = re.sub(\"can'?t\", \"can not\",text)\n",
        "    text = re.sub(\"cannot\", \"can not\",text)\n",
        "    text = re.sub(\"i'?m\", \"i am\",text)\n",
        "    text = re.sub(\"i'?ll\", \"i will\",text)\n",
        "    text = re.sub(\"it'?s\", \"it is\",text)\n",
        "    text = re.sub(\"that'?s\", \"that is\",text)\n",
        "    text = re.sub(\"weren'?t\", \"were not\",text)\n",
        "    text = re.sub(\"i'?d\",\"i would\",text)\n",
        "    text = re.sub(\"i'?ve\",\"i have\",text)\n",
        "    text = re.sub(\"she'?d\",\"she would\",text)\n",
        "    text = re.sub(\"they'?ll\",\"they will\",text)\n",
        "    text = re.sub(\"they'?re\",\"they are\",text)\n",
        "    text = re.sub(\"we'?d\",\"we would\",text)\n",
        "    text = re.sub(\"we'?ll\",\"we will\",text)\n",
        "    text = re.sub(\"we'?ve\",\"we have\",text)\n",
        "    text = re.sub(\"it'?ll\",\"it will\",text)\n",
        "    text = re.sub(\"there'?s\",\"there is\",text)\n",
        "    text = re.sub(\"where'?s\",\"where is\",text)\n",
        "    text = re.sub(\"they'?re\",\"they are\",text)\n",
        "    text = re.sub(\"let'?s\",\"let us\",text)\n",
        "    text = re.sub(\"couldn'?t\",\"could not\",text)\n",
        "    text = re.sub(\"shouldn'?t\",\"should not\",text)\n",
        "    text = re.sub(\"wasn'?t\",\"was not\",text)\n",
        "    text = re.sub(\"could'?ve\",\"could have\",text)\n",
        "    text = re.sub(\"might'?ve\",\"might have\",text)\n",
        "    text = re.sub(\"must'?ve\",\"must have\",text)\n",
        "    text = re.sub(\"should'?ve\",\"should have\",text)\n",
        "    text = re.sub(\"would'?ve\",\"would have\",text)\n",
        "    text = re.sub(\"who'?s\",\"who is\",text)\n",
        "    text = re.sub(\"you'?re\", \"you are\", text)\n",
        "    text = re.sub(\"y'?all\", \"you all\", text)\n",
        "    text = re.sub(\"'d've\",\" would have\", text)\n",
        "    text = re.sub(\"'d\",\" would\", text)\n",
        "    text = re.sub(\"'re\",\" are\", text)\n",
        "    text = re.sub(\"'ve\",\" have\", text)\n",
        "    text = re.sub(\"\\bim\\b\", \"i am\",text)\n",
        "    text = re.sub(\"[^a-zA-Z .,]+\", \"\", text)\n",
        "    return text"
      ],
      "execution_count": 50,
      "outputs": []
    },
    {
      "cell_type": "code",
      "metadata": {
        "id": "Ba0hSlPwlGiD"
      },
      "source": [
        "def remove_url(text):\n",
        "  text = re.sub(r\"\\b(?:(?:https|ftp|http|www)://)?\\w[\\w-]*(?:\\.[\\w-]+)+\\S*\", '', text, flags=re.MULTILINE)\n",
        "  return text"
      ],
      "execution_count": 51,
      "outputs": []
    },
    {
      "cell_type": "code",
      "metadata": {
        "id": "9kwM3S0KljTK"
      },
      "source": [
        "def preprocessing_pipeline(text):\n",
        "  text = to_lower(text)\n",
        "  text = remove_url(text)\n",
        "  text = remove_abbreviation(text)\n",
        "  return text\n",
        "\n",
        "data['comment_text'] = data.loc[:,'comment_text'].apply(lambda text : preprocessing_pipeline(text))"
      ],
      "execution_count": 52,
      "outputs": []
    },
    {
      "cell_type": "code",
      "metadata": {
        "id": "MNNpDcQbmBQe"
      },
      "source": [
        "test_data['comment_text'] = test_data.loc[:,'comment_text'].apply(lambda text : preprocessing_pipeline(text))"
      ],
      "execution_count": 53,
      "outputs": []
    },
    {
      "cell_type": "code",
      "metadata": {
        "id": "NMqeOLMBmMlW",
        "outputId": "b8205381-f76d-4752-f036-ad212f7a3ae0",
        "colab": {
          "base_uri": "https://localhost:8080/",
          "height": 34
        }
      },
      "source": [
        "data.shape"
      ],
      "execution_count": 54,
      "outputs": [
        {
          "output_type": "execute_result",
          "data": {
            "text/plain": [
              "(159571, 7)"
            ]
          },
          "metadata": {
            "tags": []
          },
          "execution_count": 54
        }
      ]
    },
    {
      "cell_type": "code",
      "metadata": {
        "id": "IgGHM4xzmN8z",
        "outputId": "99acc2ec-33f7-4ca1-c528-a429dcd530f8",
        "colab": {
          "base_uri": "https://localhost:8080/",
          "height": 34
        }
      },
      "source": [
        "test_data.shape"
      ],
      "execution_count": 55,
      "outputs": [
        {
          "output_type": "execute_result",
          "data": {
            "text/plain": [
              "(153164, 1)"
            ]
          },
          "metadata": {
            "tags": []
          },
          "execution_count": 55
        }
      ]
    },
    {
      "cell_type": "code",
      "metadata": {
        "id": "tMXa6su5pxzN",
        "outputId": "8d799b68-9ee7-483a-dd9a-29bbdb82ab20",
        "colab": {
          "base_uri": "https://localhost:8080/",
          "height": 34
        }
      },
      "source": [
        "del preprocessing_pipeline\n",
        "del to_lower\n",
        "del remove_url\n",
        "del remove_abbreviation\n",
        "\n",
        "gc.collect()"
      ],
      "execution_count": 56,
      "outputs": [
        {
          "output_type": "execute_result",
          "data": {
            "text/plain": [
              "282"
            ]
          },
          "metadata": {
            "tags": []
          },
          "execution_count": 56
        }
      ]
    },
    {
      "cell_type": "markdown",
      "metadata": {
        "id": "4GTD-7BxmU3I"
      },
      "source": [
        "# Word Embedding"
      ]
    },
    {
      "cell_type": "code",
      "metadata": {
        "id": "dRqBcr98mYu7",
        "outputId": "41806a20-ae6a-4a3a-8ffa-0c714b631fa6",
        "colab": {
          "base_uri": "https://localhost:8080/",
          "height": 1000
        }
      },
      "source": [
        "nlp = spacy.load('en')\n",
        "doc = nlp(u\"Chicken and Mutton\")\n",
        "doc.vector"
      ],
      "execution_count": 57,
      "outputs": [
        {
          "output_type": "execute_result",
          "data": {
            "text/plain": [
              "array([-3.49166662e-01, -1.01247333e-01,  3.53286654e-01,  6.50443360e-02,\n",
              "        2.39446655e-01,  5.97852647e-01, -1.07333565e-03, -7.28713349e-02,\n",
              "        3.91490340e-01,  1.25222635e+00, -2.64506668e-01,  3.16064000e-01,\n",
              "       -3.62883329e-01, -1.88919976e-01,  2.13089958e-02, -1.69803336e-01,\n",
              "       -3.91406566e-03,  5.98036706e-01, -1.75683334e-01,  3.39501023e-01,\n",
              "       -1.22946002e-01,  6.92796707e-02, -2.08379015e-01, -9.66816768e-02,\n",
              "        7.42769986e-02, -4.27128673e-01, -3.50886673e-01,  8.73756707e-02,\n",
              "       -4.52162437e-02, -4.01996702e-01, -9.16823372e-02,  1.54026002e-01,\n",
              "        2.10853338e-01, -3.14760000e-01,  2.60806680e-01, -1.28430009e-01,\n",
              "       -3.83560061e-02,  2.03157321e-01, -1.96409002e-02,  6.63482368e-01,\n",
              "       -2.13727236e-01, -9.52803269e-02,  1.26594007e-01, -1.53995201e-01,\n",
              "        8.36036578e-02,  2.16826662e-01, -1.70766618e-02,  1.13676667e-01,\n",
              "        7.00843334e-02,  3.70599985e-01,  2.42653012e-01,  5.42867184e-03,\n",
              "        3.38386707e-02, -2.86416650e-01,  1.92703664e-01,  1.32153332e-02,\n",
              "        2.44686663e-01,  2.25459337e-01, -2.32130006e-01,  3.13291341e-01,\n",
              "       -8.26365780e-03, -1.53717339e-01,  6.34499937e-02,  3.57373327e-01,\n",
              "        1.66553006e-01, -6.73783362e-01,  1.77524671e-01,  5.29846661e-02,\n",
              "       -1.94863342e-02,  7.70900026e-02,  1.03754342e-01,  4.81123328e-01,\n",
              "       -1.13583334e-01,  2.06813309e-02, -2.12176681e-01, -3.62276673e-01,\n",
              "        2.75712639e-01,  3.06463987e-01,  7.34716654e-02, -5.48806012e-01,\n",
              "       -2.78694004e-01, -6.51566684e-02,  1.20306671e-01, -4.76143330e-01,\n",
              "        2.17823327e-01, -5.80368042e-02,  8.49139988e-01,  3.33863348e-01,\n",
              "       -2.81233285e-02, -1.46260008e-01, -5.12213372e-02, -1.01328932e-01,\n",
              "        5.20639978e-02, -2.26226330e-01,  1.27989992e-01,  2.71351337e-01,\n",
              "       -4.80556279e-01,  8.89770091e-02, -6.58833310e-02,  4.06599939e-02,\n",
              "        1.62013337e-01,  1.04495324e-01,  2.76646674e-01, -1.56600058e-01,\n",
              "       -2.38537669e-01, -8.79123390e-01,  2.20764995e-01, -2.52202656e-02,\n",
              "        3.95486683e-01,  4.83799493e-03,  1.25244334e-01, -3.78099680e-01,\n",
              "       -1.28225669e-01, -1.58660010e-01,  7.93230012e-02, -5.69003373e-02,\n",
              "        9.86340046e-02,  1.05222337e-01,  3.86183351e-01, -1.24986671e-01,\n",
              "       -2.14050021e-02,  2.40360022e-01,  1.64314672e-01, -1.50950000e-01,\n",
              "       -1.56468675e-01, -7.18333349e-02,  1.69820666e-01, -3.36084008e-01,\n",
              "       -7.30416700e-02, -8.78880620e-02, -1.39606670e-01, -2.25101307e-01,\n",
              "        3.09753362e-02,  1.85238346e-01, -5.65833338e-02,  1.61466503e-03,\n",
              "        2.63225347e-01, -3.06933314e-01,  1.75908998e-01,  1.07285708e-01,\n",
              "       -1.64273679e+00, -1.42453000e-01,  8.59769955e-02,  1.06735326e-01,\n",
              "        1.17827989e-01, -5.53813338e-01, -1.55463666e-01,  2.49289021e-01,\n",
              "        3.96763325e-01,  8.55806693e-02,  1.27087668e-01, -3.20123322e-02,\n",
              "        3.50479990e-01, -6.29505739e-02, -2.29573324e-01, -2.52739668e-01,\n",
              "        2.74483353e-01, -4.50880043e-02,  3.03869992e-01, -1.84303328e-01,\n",
              "       -3.10833305e-02, -5.09693362e-02, -1.58135995e-01,  9.40400064e-02,\n",
              "       -1.85529664e-01, -4.85806674e-01,  2.72593349e-01, -3.09661001e-01,\n",
              "        1.29726663e-01, -1.22263335e-01,  2.45757326e-01,  2.88926333e-01,\n",
              "        2.05466654e-02, -2.21446678e-01, -9.06673372e-01, -3.16896647e-01,\n",
              "        1.22925997e-01,  1.03451334e-01,  2.97093332e-01, -2.47590005e-01,\n",
              "       -3.07562321e-01, -3.05403322e-01, -5.47146685e-02, -4.12679985e-02,\n",
              "       -1.53101996e-01,  5.60134649e-02, -1.70355007e-01, -4.82146651e-01,\n",
              "        2.56152362e-01, -4.65233326e-01, -7.99033344e-02,  1.58878997e-01,\n",
              "        5.14360033e-02, -1.14306331e-01, -1.70202330e-01,  1.46170989e-01,\n",
              "        6.06659949e-01,  1.67659208e-01,  9.71676633e-02, -1.74016669e-01,\n",
              "       -3.56733322e-01,  9.13533568e-03,  9.35370028e-02,  1.44683318e-02,\n",
              "        6.39806688e-01,  2.72199988e-01,  2.60960013e-02,  1.10023366e-02,\n",
              "        3.83487344e-01,  3.91360015e-01, -2.15709999e-01, -3.03085670e-02,\n",
              "       -1.17956333e-01, -2.79840916e-01, -1.02875330e-01, -6.62040040e-02,\n",
              "       -2.30100334e-01,  1.56165659e-01, -7.15756714e-02,  3.22379649e-01,\n",
              "       -3.77353340e-01,  2.52895325e-01,  1.89411655e-01, -9.93959904e-02,\n",
              "        5.67566641e-02,  2.89993525e-01, -1.66306332e-01,  3.28726649e-01,\n",
              "       -5.92296608e-02,  1.42169669e-01, -3.97060007e-01,  1.32900000e-01,\n",
              "        2.78170016e-02,  1.40206680e-01,  1.65651992e-01,  7.06713274e-02,\n",
              "       -2.36226663e-01, -1.44791663e-01,  4.04558331e-01,  1.20687999e-01,\n",
              "       -2.81365454e-01, -2.27432954e-03, -1.54660001e-01, -4.58079964e-01,\n",
              "        1.33508340e-01,  2.73226649e-01, -3.29058081e-01, -6.66916668e-01,\n",
              "       -2.56009996e-01, -4.02228981e-01, -9.69382301e-02,  6.52939975e-02,\n",
              "       -4.42553014e-01,  3.34333330e-01,  8.73206630e-02,  2.27697656e-01,\n",
              "        2.68469989e-01,  3.11233308e-02,  7.41233444e-03,  2.03081325e-01,\n",
              "        5.97079992e-02, -2.36662999e-01, -3.05666685e-01,  4.72800024e-02,\n",
              "        1.79274678e-02,  2.21937343e-01, -2.36126676e-01, -5.43147624e-02,\n",
              "       -8.90233293e-02, -2.84566671e-01,  3.72292310e-01, -1.27213001e-01,\n",
              "        9.92586687e-02,  1.01840675e-01, -1.56916335e-01,  3.34185988e-01,\n",
              "        1.95653990e-01, -1.23086674e-02,  1.05349004e-01,  2.45493874e-01,\n",
              "        4.89143342e-01, -8.61966684e-02, -4.76536639e-02, -3.07533652e-01,\n",
              "       -3.84579971e-02,  3.77295166e-01,  3.85003328e-01, -6.73726723e-02,\n",
              "       -1.10446997e-01, -2.54141331e-01,  1.64013326e-01, -1.09204672e-01,\n",
              "       -4.85073328e-01, -6.48960099e-02, -3.18715185e-01,  5.48810028e-02,\n",
              "        9.35066640e-02, -3.43203992e-01,  2.53060013e-01,  1.31083325e-01],\n",
              "      dtype=float32)"
            ]
          },
          "metadata": {
            "tags": []
          },
          "execution_count": 57
        }
      ]
    },
    {
      "cell_type": "code",
      "metadata": {
        "id": "fNUzU9Jamxj1"
      },
      "source": [
        "X = np.zeros((data.shape[0], 300), dtype=np.float32)\n",
        "counter = 0"
      ],
      "execution_count": 70,
      "outputs": []
    },
    {
      "cell_type": "code",
      "metadata": {
        "id": "tUjFV6i2sQK8",
        "outputId": "4b2838d4-9b81-457e-a992-6923db95239e",
        "colab": {
          "base_uri": "https://localhost:8080/",
          "height": 238
        }
      },
      "source": [
        "def word_embedding(text):\n",
        "  global counter\n",
        "  X[counter,:] = nlp(text).vector\n",
        "  counter = counter + 1\n",
        "\n",
        "data.loc[:,'comment_text'].progress_apply(lambda text : word_embedding(text))"
      ],
      "execution_count": 73,
      "outputs": [
        {
          "output_type": "stream",
          "text": [
            "100%|██████████| 159571/159571 [55:40<00:00, 47.76it/s]\n"
          ],
          "name": "stderr"
        },
        {
          "output_type": "execute_result",
          "data": {
            "text/plain": [
              "0         None\n",
              "1         None\n",
              "2         None\n",
              "3         None\n",
              "4         None\n",
              "          ... \n",
              "159566    None\n",
              "159567    None\n",
              "159568    None\n",
              "159569    None\n",
              "159570    None\n",
              "Name: comment_text, Length: 159571, dtype: object"
            ]
          },
          "metadata": {
            "tags": []
          },
          "execution_count": 73
        }
      ]
    },
    {
      "cell_type": "code",
      "metadata": {
        "id": "tHTfMvyI6ooD",
        "outputId": "c92b2534-89ed-43a0-f646-3534f675ff21",
        "colab": {
          "base_uri": "https://localhost:8080/",
          "height": 238
        }
      },
      "source": [
        "X"
      ],
      "execution_count": 74,
      "outputs": [
        {
          "output_type": "execute_result",
          "data": {
            "text/plain": [
              "array([[ 0.03448813,  0.09872174, -0.17731757, ..., -0.01966973,\n",
              "        -0.00583382,  0.12877746],\n",
              "       [-0.00617565,  0.2648892 , -0.0425774 , ...,  0.1009116 ,\n",
              "        -0.1026927 ,  0.1888336 ],\n",
              "       [-0.06958876,  0.17466746, -0.21078135, ..., -0.00699711,\n",
              "        -0.02979095,  0.15146053],\n",
              "       ...,\n",
              "       [-0.03069575,  0.24811323, -0.11504405, ..., -0.10391007,\n",
              "        -0.13967338,  0.09451273],\n",
              "       [-0.00345617,  0.154048  , -0.20982797, ..., -0.05986919,\n",
              "         0.06772245,  0.19867161],\n",
              "       [-0.03142541,  0.21293637, -0.2588035 , ..., -0.00225536,\n",
              "         0.04896529,  0.12037323]], dtype=float32)"
            ]
          },
          "metadata": {
            "tags": []
          },
          "execution_count": 74
        }
      ]
    },
    {
      "cell_type": "code",
      "metadata": {
        "id": "qIcemN2u6qgA",
        "outputId": "9ed28852-622e-4aa9-c072-e67913dc9251",
        "colab": {
          "base_uri": "https://localhost:8080/",
          "height": 34
        }
      },
      "source": [
        "X.shape"
      ],
      "execution_count": 75,
      "outputs": [
        {
          "output_type": "execute_result",
          "data": {
            "text/plain": [
              "(159571, 300)"
            ]
          },
          "metadata": {
            "tags": []
          },
          "execution_count": 75
        }
      ]
    },
    {
      "cell_type": "code",
      "metadata": {
        "id": "XbZgOyG2ugQF"
      },
      "source": [
        "Test = np.zeros((test_data.shape[0], 300), dtype=np.float32)\n",
        "counter = 0"
      ],
      "execution_count": 76,
      "outputs": []
    },
    {
      "cell_type": "code",
      "metadata": {
        "id": "Xw5HVjUduWXQ",
        "outputId": "6504971f-13bb-487c-c153-6fedf947d190",
        "colab": {
          "base_uri": "https://localhost:8080/",
          "height": 238
        }
      },
      "source": [
        "def word_embedding_test(text):\n",
        "  global counter\n",
        "  Test[counter,:] = nlp(text).vector\n",
        "  counter = counter + 1\n",
        "\n",
        "test_data.loc[:,'comment_text'].progress_apply(lambda text : word_embedding_test(text))"
      ],
      "execution_count": 77,
      "outputs": [
        {
          "output_type": "stream",
          "text": [
            "100%|██████████| 153164/153164 [50:18<00:00, 50.75it/s]\n"
          ],
          "name": "stderr"
        },
        {
          "output_type": "execute_result",
          "data": {
            "text/plain": [
              "0         None\n",
              "1         None\n",
              "2         None\n",
              "3         None\n",
              "4         None\n",
              "          ... \n",
              "153159    None\n",
              "153160    None\n",
              "153161    None\n",
              "153162    None\n",
              "153163    None\n",
              "Name: comment_text, Length: 153164, dtype: object"
            ]
          },
          "metadata": {
            "tags": []
          },
          "execution_count": 77
        }
      ]
    },
    {
      "cell_type": "code",
      "metadata": {
        "id": "zmFBaCvxMACZ",
        "outputId": "41f41abf-d547-4ef7-dee1-4b8bba3537b6",
        "colab": {
          "base_uri": "https://localhost:8080/",
          "height": 34
        }
      },
      "source": [
        "Test.shape"
      ],
      "execution_count": 84,
      "outputs": [
        {
          "output_type": "execute_result",
          "data": {
            "text/plain": [
              "(153164, 300)"
            ]
          },
          "metadata": {
            "tags": []
          },
          "execution_count": 84
        }
      ]
    },
    {
      "cell_type": "code",
      "metadata": {
        "id": "Vcad3lfZMCo0",
        "outputId": "9db2e09f-70b8-48f8-e159-59df65a2f8ca",
        "colab": {
          "base_uri": "https://localhost:8080/",
          "height": 238
        }
      },
      "source": [
        "Test"
      ],
      "execution_count": 85,
      "outputs": [
        {
          "output_type": "execute_result",
          "data": {
            "text/plain": [
              "array([[-0.12088359,  0.07093609, -0.17736606, ..., -0.01424188,\n",
              "         0.04577019,  0.11794006],\n",
              "       [ 0.01906666,  0.15359667, -0.14850616, ..., -0.1201122 ,\n",
              "        -0.1764278 ,  0.0737977 ],\n",
              "       [-0.0118145 , -0.03195562, -0.05409718, ..., -0.0575075 ,\n",
              "        -0.02722887,  0.15392739],\n",
              "       ...,\n",
              "       [-0.01106421,  0.11376979, -0.0664166 , ..., -0.05974143,\n",
              "        -0.00114315,  0.05005007],\n",
              "       [ 0.00324723,  0.11186893, -0.12036144, ..., -0.05733033,\n",
              "        -0.01482491,  0.10719597],\n",
              "       [-0.09983765,  0.24917597, -0.22282346, ..., -0.01183287,\n",
              "        -0.03641475,  0.12520471]], dtype=float32)"
            ]
          },
          "metadata": {
            "tags": []
          },
          "execution_count": 85
        }
      ]
    },
    {
      "cell_type": "code",
      "metadata": {
        "id": "QeNLIGTdMKpT",
        "outputId": "f0d93cde-ccf8-4aa3-dc1a-26c605394d17",
        "colab": {
          "base_uri": "https://localhost:8080/",
          "height": 136
        }
      },
      "source": [
        "Y = data.iloc[:,1:].values\n",
        "Y"
      ],
      "execution_count": 86,
      "outputs": [
        {
          "output_type": "execute_result",
          "data": {
            "text/plain": [
              "array([[0, 0, 0, 0, 0, 0],\n",
              "       [0, 0, 0, 0, 0, 0],\n",
              "       [0, 0, 0, 0, 0, 0],\n",
              "       ...,\n",
              "       [0, 0, 0, 0, 0, 0],\n",
              "       [0, 0, 0, 0, 0, 0],\n",
              "       [0, 0, 0, 0, 0, 0]])"
            ]
          },
          "metadata": {
            "tags": []
          },
          "execution_count": 86
        }
      ]
    },
    {
      "cell_type": "code",
      "metadata": {
        "id": "spSoqW6JMSW_",
        "outputId": "03cfc8a1-7807-4301-cc8e-b0999549e8a7",
        "colab": {
          "base_uri": "https://localhost:8080/",
          "height": 68
        }
      },
      "source": [
        "categories = data.iloc[:,1:].columns\n",
        "categories"
      ],
      "execution_count": 87,
      "outputs": [
        {
          "output_type": "execute_result",
          "data": {
            "text/plain": [
              "Index(['toxic', 'severe_toxic', 'obscene', 'threat', 'insult',\n",
              "       'identity_hate'],\n",
              "      dtype='object')"
            ]
          },
          "metadata": {
            "tags": []
          },
          "execution_count": 87
        }
      ]
    },
    {
      "cell_type": "code",
      "metadata": {
        "id": "9P3Uu6BrMXzG",
        "outputId": "e635434a-ff0e-4d9a-b2e6-8dc1344bff33",
        "colab": {
          "base_uri": "https://localhost:8080/",
          "height": 34
        }
      },
      "source": [
        "del data\n",
        "del test_data\n",
        "\n",
        "gc.collect()"
      ],
      "execution_count": 88,
      "outputs": [
        {
          "output_type": "execute_result",
          "data": {
            "text/plain": [
              "576"
            ]
          },
          "metadata": {
            "tags": []
          },
          "execution_count": 88
        }
      ]
    },
    {
      "cell_type": "markdown",
      "metadata": {
        "id": "EiibQyZjMGhz"
      },
      "source": [
        "# Decision Trees"
      ]
    },
    {
      "cell_type": "code",
      "metadata": {
        "id": "52_8wA8MMIfZ",
        "outputId": "669b9f59-217a-4e9f-c6f3-69de7fcca597",
        "colab": {
          "base_uri": "https://localhost:8080/",
          "height": 153
        }
      },
      "source": [
        "scores = 0\n",
        "\n",
        "# alpha_values = [0.9999999999999999, 0.25, 0.85, 0.1, 0.7, 0.25]\n",
        "\n",
        "for index,category in enumerate(categories):\n",
        "    decision_tree = DecisionTreeClassifier(max_depth=300)\n",
        "    score = np.mean(cross_val_score(decision_tree, X, Y[:,index], cv=3, scoring='roc_auc'))\n",
        "    scores += score\n",
        "    print(f\"{category} : {score}\")\n",
        "\n",
        "print(\"\\nAverage Score : {:.5f}\".format(scores/6))"
      ],
      "execution_count": 97,
      "outputs": [
        {
          "output_type": "stream",
          "text": [
            "toxic : 0.7304181645729786\n",
            "severe_toxic : 0.6251566305644697\n",
            "obscene : 0.7444485529372136\n",
            "threat : 0.5586508555752782\n",
            "insult : 0.7175446262217874\n",
            "identity_hate : 0.5936014313934518\n",
            "\n",
            "Average Score : 0.66164\n"
          ],
          "name": "stdout"
        }
      ]
    }
  ]
}